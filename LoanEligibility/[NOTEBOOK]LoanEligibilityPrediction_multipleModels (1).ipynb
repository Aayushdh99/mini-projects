{
  "nbformat": 4,
  "nbformat_minor": 0,
  "metadata": {
    "colab": {
      "provenance": []
    },
    "kernelspec": {
      "name": "python3",
      "display_name": "Python 3"
    },
    "language_info": {
      "name": "python"
    }
  },
  "cells": [
    {
      "cell_type": "code",
      "execution_count": null,
      "metadata": {
        "id": "7ZBLD5kEfEDd"
      },
      "outputs": [],
      "source": [
        "# Dataset: https://www.kaggle.com/datasets/vikasukani/loan-eligible-dataset"
      ]
    },
    {
      "cell_type": "code",
      "source": [
        "# Importing the libraries\n",
        "import pandas as pd\n",
        "import numpy as np\n",
        "import matplotlib.pyplot as plt\n",
        "import seaborn as sns\n",
        "\n",
        "from sklearn.preprocessing import LabelEncoder\n",
        "from sklearn.preprocessing import MinMaxScaler"
      ],
      "metadata": {
        "id": "bi0cLi_LvfzE"
      },
      "execution_count": 1,
      "outputs": []
    },
    {
      "cell_type": "code",
      "source": [
        "# ABOUT DATASET(From Kaggle):-\n",
        "# -----------------------------------------------------------------------\n",
        "# | Key Name\t        | Description                                        |\n",
        "# |---------------------------------------------------------------------|\n",
        "# | Loan_ID\t          | Unique Loan ID                                  |\n",
        "# | Gender\t          | Male/ Female                                    |\n",
        "# | Married\t          | Applicant married (Y/N)                         |\n",
        "# | Dependents\t      | Number of dependents                            |\n",
        "# | Education\t        | Applicant Education (Graduate/ Under Graduate)  |\n",
        "# | Self_Employed\t    | Self-employed (Y/N)                             |\n",
        "# | ApplicantIncome   | Applicant income                                |\n",
        "# | CoapplicantIncome\t| Coapplicant income                              |\n",
        "# | LoanAmount\t      | Loan amount in thousands                        |\n",
        "# | Loan_Amount_Term\t| Term of a loan in months                        |\n",
        "# | Credit_History\t  | credit history meets guidelines                 |\n",
        "# | Property_Area\t    | Urban/ Semi-Urban/ Rural                        |\n",
        "# | Loan_Status\t      | Loan approved (Y/N)                             |\n",
        "# -----------------------------------------------------------------------"
      ],
      "metadata": {
        "id": "gRIrp-7evf1p"
      },
      "execution_count": 2,
      "outputs": []
    },
    {
      "cell_type": "code",
      "source": [
        "train_df = pd.read_csv('loan_train.csv')\n",
        "test_df = pd.read_csv('loan_test.csv')"
      ],
      "metadata": {
        "id": "JX-kPmFTvf4P"
      },
      "execution_count": 3,
      "outputs": []
    },
    {
      "cell_type": "code",
      "source": [
        "train_df.head()"
      ],
      "metadata": {
        "colab": {
          "base_uri": "https://localhost:8080/",
          "height": 288
        },
        "id": "N8rsp91ovf6l",
        "outputId": "52f41dd0-7a91-4cf0-8b8f-4326418c80d2"
      },
      "execution_count": 4,
      "outputs": [
        {
          "output_type": "execute_result",
          "data": {
            "text/plain": [
              "    Loan_ID Gender Married Dependents     Education Self_Employed  \\\n",
              "0  LP001002   Male      No          0      Graduate            No   \n",
              "1  LP001003   Male     Yes          1      Graduate            No   \n",
              "2  LP001005   Male     Yes          0      Graduate           Yes   \n",
              "3  LP001006   Male     Yes          0  Not Graduate            No   \n",
              "4  LP001008   Male      No          0      Graduate            No   \n",
              "\n",
              "   ApplicantIncome  CoapplicantIncome  LoanAmount  Loan_Amount_Term  \\\n",
              "0             5849                0.0         NaN             360.0   \n",
              "1             4583             1508.0       128.0             360.0   \n",
              "2             3000                0.0        66.0             360.0   \n",
              "3             2583             2358.0       120.0             360.0   \n",
              "4             6000                0.0       141.0             360.0   \n",
              "\n",
              "   Credit_History Property_Area Loan_Status  \n",
              "0             1.0         Urban           Y  \n",
              "1             1.0         Rural           N  \n",
              "2             1.0         Urban           Y  \n",
              "3             1.0         Urban           Y  \n",
              "4             1.0         Urban           Y  "
            ],
            "text/html": [
              "\n",
              "  <div id=\"df-1ceaf618-2832-4553-9e18-af66140a8bec\">\n",
              "    <div class=\"colab-df-container\">\n",
              "      <div>\n",
              "<style scoped>\n",
              "    .dataframe tbody tr th:only-of-type {\n",
              "        vertical-align: middle;\n",
              "    }\n",
              "\n",
              "    .dataframe tbody tr th {\n",
              "        vertical-align: top;\n",
              "    }\n",
              "\n",
              "    .dataframe thead th {\n",
              "        text-align: right;\n",
              "    }\n",
              "</style>\n",
              "<table border=\"1\" class=\"dataframe\">\n",
              "  <thead>\n",
              "    <tr style=\"text-align: right;\">\n",
              "      <th></th>\n",
              "      <th>Loan_ID</th>\n",
              "      <th>Gender</th>\n",
              "      <th>Married</th>\n",
              "      <th>Dependents</th>\n",
              "      <th>Education</th>\n",
              "      <th>Self_Employed</th>\n",
              "      <th>ApplicantIncome</th>\n",
              "      <th>CoapplicantIncome</th>\n",
              "      <th>LoanAmount</th>\n",
              "      <th>Loan_Amount_Term</th>\n",
              "      <th>Credit_History</th>\n",
              "      <th>Property_Area</th>\n",
              "      <th>Loan_Status</th>\n",
              "    </tr>\n",
              "  </thead>\n",
              "  <tbody>\n",
              "    <tr>\n",
              "      <th>0</th>\n",
              "      <td>LP001002</td>\n",
              "      <td>Male</td>\n",
              "      <td>No</td>\n",
              "      <td>0</td>\n",
              "      <td>Graduate</td>\n",
              "      <td>No</td>\n",
              "      <td>5849</td>\n",
              "      <td>0.0</td>\n",
              "      <td>NaN</td>\n",
              "      <td>360.0</td>\n",
              "      <td>1.0</td>\n",
              "      <td>Urban</td>\n",
              "      <td>Y</td>\n",
              "    </tr>\n",
              "    <tr>\n",
              "      <th>1</th>\n",
              "      <td>LP001003</td>\n",
              "      <td>Male</td>\n",
              "      <td>Yes</td>\n",
              "      <td>1</td>\n",
              "      <td>Graduate</td>\n",
              "      <td>No</td>\n",
              "      <td>4583</td>\n",
              "      <td>1508.0</td>\n",
              "      <td>128.0</td>\n",
              "      <td>360.0</td>\n",
              "      <td>1.0</td>\n",
              "      <td>Rural</td>\n",
              "      <td>N</td>\n",
              "    </tr>\n",
              "    <tr>\n",
              "      <th>2</th>\n",
              "      <td>LP001005</td>\n",
              "      <td>Male</td>\n",
              "      <td>Yes</td>\n",
              "      <td>0</td>\n",
              "      <td>Graduate</td>\n",
              "      <td>Yes</td>\n",
              "      <td>3000</td>\n",
              "      <td>0.0</td>\n",
              "      <td>66.0</td>\n",
              "      <td>360.0</td>\n",
              "      <td>1.0</td>\n",
              "      <td>Urban</td>\n",
              "      <td>Y</td>\n",
              "    </tr>\n",
              "    <tr>\n",
              "      <th>3</th>\n",
              "      <td>LP001006</td>\n",
              "      <td>Male</td>\n",
              "      <td>Yes</td>\n",
              "      <td>0</td>\n",
              "      <td>Not Graduate</td>\n",
              "      <td>No</td>\n",
              "      <td>2583</td>\n",
              "      <td>2358.0</td>\n",
              "      <td>120.0</td>\n",
              "      <td>360.0</td>\n",
              "      <td>1.0</td>\n",
              "      <td>Urban</td>\n",
              "      <td>Y</td>\n",
              "    </tr>\n",
              "    <tr>\n",
              "      <th>4</th>\n",
              "      <td>LP001008</td>\n",
              "      <td>Male</td>\n",
              "      <td>No</td>\n",
              "      <td>0</td>\n",
              "      <td>Graduate</td>\n",
              "      <td>No</td>\n",
              "      <td>6000</td>\n",
              "      <td>0.0</td>\n",
              "      <td>141.0</td>\n",
              "      <td>360.0</td>\n",
              "      <td>1.0</td>\n",
              "      <td>Urban</td>\n",
              "      <td>Y</td>\n",
              "    </tr>\n",
              "  </tbody>\n",
              "</table>\n",
              "</div>\n",
              "      <button class=\"colab-df-convert\" onclick=\"convertToInteractive('df-1ceaf618-2832-4553-9e18-af66140a8bec')\"\n",
              "              title=\"Convert this dataframe to an interactive table.\"\n",
              "              style=\"display:none;\">\n",
              "        \n",
              "  <svg xmlns=\"http://www.w3.org/2000/svg\" height=\"24px\"viewBox=\"0 0 24 24\"\n",
              "       width=\"24px\">\n",
              "    <path d=\"M0 0h24v24H0V0z\" fill=\"none\"/>\n",
              "    <path d=\"M18.56 5.44l.94 2.06.94-2.06 2.06-.94-2.06-.94-.94-2.06-.94 2.06-2.06.94zm-11 1L8.5 8.5l.94-2.06 2.06-.94-2.06-.94L8.5 2.5l-.94 2.06-2.06.94zm10 10l.94 2.06.94-2.06 2.06-.94-2.06-.94-.94-2.06-.94 2.06-2.06.94z\"/><path d=\"M17.41 7.96l-1.37-1.37c-.4-.4-.92-.59-1.43-.59-.52 0-1.04.2-1.43.59L10.3 9.45l-7.72 7.72c-.78.78-.78 2.05 0 2.83L4 21.41c.39.39.9.59 1.41.59.51 0 1.02-.2 1.41-.59l7.78-7.78 2.81-2.81c.8-.78.8-2.07 0-2.86zM5.41 20L4 18.59l7.72-7.72 1.47 1.35L5.41 20z\"/>\n",
              "  </svg>\n",
              "      </button>\n",
              "      \n",
              "  <style>\n",
              "    .colab-df-container {\n",
              "      display:flex;\n",
              "      flex-wrap:wrap;\n",
              "      gap: 12px;\n",
              "    }\n",
              "\n",
              "    .colab-df-convert {\n",
              "      background-color: #E8F0FE;\n",
              "      border: none;\n",
              "      border-radius: 50%;\n",
              "      cursor: pointer;\n",
              "      display: none;\n",
              "      fill: #1967D2;\n",
              "      height: 32px;\n",
              "      padding: 0 0 0 0;\n",
              "      width: 32px;\n",
              "    }\n",
              "\n",
              "    .colab-df-convert:hover {\n",
              "      background-color: #E2EBFA;\n",
              "      box-shadow: 0px 1px 2px rgba(60, 64, 67, 0.3), 0px 1px 3px 1px rgba(60, 64, 67, 0.15);\n",
              "      fill: #174EA6;\n",
              "    }\n",
              "\n",
              "    [theme=dark] .colab-df-convert {\n",
              "      background-color: #3B4455;\n",
              "      fill: #D2E3FC;\n",
              "    }\n",
              "\n",
              "    [theme=dark] .colab-df-convert:hover {\n",
              "      background-color: #434B5C;\n",
              "      box-shadow: 0px 1px 3px 1px rgba(0, 0, 0, 0.15);\n",
              "      filter: drop-shadow(0px 1px 2px rgba(0, 0, 0, 0.3));\n",
              "      fill: #FFFFFF;\n",
              "    }\n",
              "  </style>\n",
              "\n",
              "      <script>\n",
              "        const buttonEl =\n",
              "          document.querySelector('#df-1ceaf618-2832-4553-9e18-af66140a8bec button.colab-df-convert');\n",
              "        buttonEl.style.display =\n",
              "          google.colab.kernel.accessAllowed ? 'block' : 'none';\n",
              "\n",
              "        async function convertToInteractive(key) {\n",
              "          const element = document.querySelector('#df-1ceaf618-2832-4553-9e18-af66140a8bec');\n",
              "          const dataTable =\n",
              "            await google.colab.kernel.invokeFunction('convertToInteractive',\n",
              "                                                     [key], {});\n",
              "          if (!dataTable) return;\n",
              "\n",
              "          const docLinkHtml = 'Like what you see? Visit the ' +\n",
              "            '<a target=\"_blank\" href=https://colab.research.google.com/notebooks/data_table.ipynb>data table notebook</a>'\n",
              "            + ' to learn more about interactive tables.';\n",
              "          element.innerHTML = '';\n",
              "          dataTable['output_type'] = 'display_data';\n",
              "          await google.colab.output.renderOutput(dataTable, element);\n",
              "          const docLink = document.createElement('div');\n",
              "          docLink.innerHTML = docLinkHtml;\n",
              "          element.appendChild(docLink);\n",
              "        }\n",
              "      </script>\n",
              "    </div>\n",
              "  </div>\n",
              "  "
            ]
          },
          "metadata": {},
          "execution_count": 4
        }
      ]
    },
    {
      "cell_type": "code",
      "source": [
        "train_df.columns"
      ],
      "metadata": {
        "colab": {
          "base_uri": "https://localhost:8080/"
        },
        "id": "GATmh8XAzbEt",
        "outputId": "2116020e-ad50-4baa-807a-02a51c56963a"
      },
      "execution_count": 5,
      "outputs": [
        {
          "output_type": "execute_result",
          "data": {
            "text/plain": [
              "Index(['Loan_ID', 'Gender', 'Married', 'Dependents', 'Education',\n",
              "       'Self_Employed', 'ApplicantIncome', 'CoapplicantIncome', 'LoanAmount',\n",
              "       'Loan_Amount_Term', 'Credit_History', 'Property_Area', 'Loan_Status'],\n",
              "      dtype='object')"
            ]
          },
          "metadata": {},
          "execution_count": 5
        }
      ]
    },
    {
      "cell_type": "code",
      "source": [
        "# rows and cols in train_df\n",
        "print('rows:', train_df.shape[0])\n",
        "print('cols:', train_df.shape[1])"
      ],
      "metadata": {
        "colab": {
          "base_uri": "https://localhost:8080/"
        },
        "id": "qh1NaO9ivf9M",
        "outputId": "59c8773d-b89e-47a7-82a5-16fde5be0c7d"
      },
      "execution_count": 6,
      "outputs": [
        {
          "output_type": "stream",
          "name": "stdout",
          "text": [
            "rows: 614\n",
            "cols: 13\n"
          ]
        }
      ]
    },
    {
      "cell_type": "markdown",
      "source": [
        "### **Data Exploration & Analysis**\n",
        "**Categorical Variables**\n"
      ],
      "metadata": {
        "id": "Z1jkMEmLzk3g"
      }
    },
    {
      "cell_type": "code",
      "source": [
        "# 1. Gender\n",
        "train_df.Gender.value_counts(dropna=False)"
      ],
      "metadata": {
        "colab": {
          "base_uri": "https://localhost:8080/"
        },
        "id": "ZNXI6CaavgCZ",
        "outputId": "c416a5d8-bb43-4732-fd75-3ecda50d4d44"
      },
      "execution_count": 7,
      "outputs": [
        {
          "output_type": "execute_result",
          "data": {
            "text/plain": [
              "Male      489\n",
              "Female    112\n",
              "NaN        13\n",
              "Name: Gender, dtype: int64"
            ]
          },
          "metadata": {},
          "execution_count": 7
        }
      ]
    },
    {
      "cell_type": "code",
      "source": [
        "sns.countplot(x=\"Gender\", data=train_df, palette=\"hls\")\n",
        "plt.show()"
      ],
      "metadata": {
        "colab": {
          "base_uri": "https://localhost:8080/",
          "height": 279
        },
        "id": "26DdzFiX0DSn",
        "outputId": "1f347d43-b337-446a-f11b-6378e562027e"
      },
      "execution_count": 8,
      "outputs": [
        {
          "output_type": "display_data",
          "data": {
            "text/plain": [
              "<Figure size 432x288 with 1 Axes>"
            ],
            "image/png": "[encoded data removed]"
          },
          "metadata": {
            "needs_background": "light"
          }
        }
      ]
    },
    {
      "cell_type": "code",
      "source": [
        "# 2. Married\n",
        "train_df.Married.value_counts(dropna=False)"
      ],
      "metadata": {
        "colab": {
          "base_uri": "https://localhost:8080/"
        },
        "id": "jZZppCsY0DU7",
        "outputId": "fe026ddc-872a-4443-82c1-b3c23aaef06c"
      },
      "execution_count": 9,
      "outputs": [
        {
          "output_type": "execute_result",
          "data": {
            "text/plain": [
              "Yes    398\n",
              "No     213\n",
              "NaN      3\n",
              "Name: Married, dtype: int64"
            ]
          },
          "metadata": {},
          "execution_count": 9
        }
      ]
    },
    {
      "cell_type": "code",
      "source": [
        "sns.countplot(x=\"Married\", data=train_df, palette=\"Paired\")\n",
        "plt.show()"
      ],
      "metadata": {
        "colab": {
          "base_uri": "https://localhost:8080/",
          "height": 279
        },
        "id": "OalKvazG0DXi",
        "outputId": "628a1ffb-12d2-4c7d-a2b3-21dddb18af21"
      },
      "execution_count": 10,
      "outputs": [
        {
          "output_type": "display_data",
          "data": {
            "text/plain": [
              "<Figure size 432x288 with 1 Axes>"
            ],
            "image/png": "[encoded data removed]"
          },
          "metadata": {
            "needs_background": "light"
          }
        }
      ]
    },
    {
      "cell_type": "code",
      "source": [
        "# 3. Education\n",
        "train_df.Education.value_counts(dropna=False)"
      ],
      "metadata": {
        "colab": {
          "base_uri": "https://localhost:8080/"
        },
        "id": "o1QjP3M80DZ4",
        "outputId": "93f3462a-7773-430e-ed95-14d857787bc8"
      },
      "execution_count": 11,
      "outputs": [
        {
          "output_type": "execute_result",
          "data": {
            "text/plain": [
              "Graduate        480\n",
              "Not Graduate    134\n",
              "Name: Education, dtype: int64"
            ]
          },
          "metadata": {},
          "execution_count": 11
        }
      ]
    },
    {
      "cell_type": "code",
      "source": [
        "sns.countplot(x=\"Education\", data=train_df, palette=\"rocket\")\n",
        "plt.show()"
      ],
      "metadata": {
        "colab": {
          "base_uri": "https://localhost:8080/",
          "height": 282
        },
        "id": "hZ22hnBH0f1j",
        "outputId": "81036ba8-90ca-488d-ca95-2a17311461ae"
      },
      "execution_count": 12,
      "outputs": [
        {
          "output_type": "display_data",
          "data": {
            "text/plain": [
              "<Figure size 432x288 with 1 Axes>"
            ],
            "image/png": "[encoded data removed]"
          },
          "metadata": {
            "needs_background": "light"
          }
        }
      ]
    },
    {
      "cell_type": "code",
      "source": [
        "# 4. Self_Employed\n",
        "train_df.Self_Employed.value_counts(dropna=False)"
      ],
      "metadata": {
        "colab": {
          "base_uri": "https://localhost:8080/"
        },
        "id": "p2ZzDyMb0f4J",
        "outputId": "f8015e44-3107-45ea-d292-44571a0b040c"
      },
      "execution_count": 13,
      "outputs": [
        {
          "output_type": "execute_result",
          "data": {
            "text/plain": [
              "No     500\n",
              "Yes     82\n",
              "NaN     32\n",
              "Name: Self_Employed, dtype: int64"
            ]
          },
          "metadata": {},
          "execution_count": 13
        }
      ]
    },
    {
      "cell_type": "code",
      "source": [
        "sns.countplot(x=\"Self_Employed\", data=train_df, palette=\"crest\")\n",
        "plt.show()"
      ],
      "metadata": {
        "colab": {
          "base_uri": "https://localhost:8080/",
          "height": 280
        },
        "id": "1MN17Ctd0y40",
        "outputId": "168dc46c-26e9-4268-f87c-433bdceb46af"
      },
      "execution_count": 14,
      "outputs": [
        {
          "output_type": "display_data",
          "data": {
            "text/plain": [
              "<Figure size 432x288 with 1 Axes>"
            ],
            "image/png": "[encoded data removed]"
          },
          "metadata": {
            "needs_background": "light"
          }
        }
      ]
    },
    {
      "cell_type": "code",
      "source": [
        "# 5. Credit_History\n",
        "train_df.Credit_History.value_counts(dropna=False)"
      ],
      "metadata": {
        "colab": {
          "base_uri": "https://localhost:8080/"
        },
        "id": "Gt1knu1u01q7",
        "outputId": "8e5edabd-8a96-4bc9-e48c-2f734e8adc2a"
      },
      "execution_count": 15,
      "outputs": [
        {
          "output_type": "execute_result",
          "data": {
            "text/plain": [
              "1.0    475\n",
              "0.0     89\n",
              "NaN     50\n",
              "Name: Credit_History, dtype: int64"
            ]
          },
          "metadata": {},
          "execution_count": 15
        }
      ]
    },
    {
      "cell_type": "code",
      "source": [
        "sns.countplot(x=\"Credit_History\", data=train_df, palette=\"viridis\")\n",
        "plt.show()"
      ],
      "metadata": {
        "colab": {
          "base_uri": "https://localhost:8080/",
          "height": 280
        },
        "id": "M5m1air401tP",
        "outputId": "0ea85be8-9cd6-4eeb-cfe7-62cb9e5391ff"
      },
      "execution_count": 16,
      "outputs": [
        {
          "output_type": "display_data",
          "data": {
            "text/plain": [
              "<Figure size 432x288 with 1 Axes>"
            ],
            "image/png": "[encoded data removed]"
          },
          "metadata": {
            "needs_background": "light"
          }
        }
      ]
    },
    {
      "cell_type": "code",
      "source": [
        "# 6. Property_Area\n",
        "train_df.Property_Area.value_counts(dropna=False)"
      ],
      "metadata": {
        "colab": {
          "base_uri": "https://localhost:8080/"
        },
        "id": "dKGKUyIT1DND",
        "outputId": "6e9db659-be5c-4dd3-aa8b-452fafbccb73"
      },
      "execution_count": 17,
      "outputs": [
        {
          "output_type": "execute_result",
          "data": {
            "text/plain": [
              "Semiurban    233\n",
              "Urban        202\n",
              "Rural        179\n",
              "Name: Property_Area, dtype: int64"
            ]
          },
          "metadata": {},
          "execution_count": 17
        }
      ]
    },
    {
      "cell_type": "code",
      "source": [
        "sns.countplot(x=\"Property_Area\", data=train_df, palette=\"cubehelix\")\n",
        "plt.show()"
      ],
      "metadata": {
        "colab": {
          "base_uri": "https://localhost:8080/",
          "height": 280
        },
        "id": "LABpiU1u1DPY",
        "outputId": "ec4b2fd0-c53f-4ce2-d7e4-7c69e76f7aff"
      },
      "execution_count": 18,
      "outputs": [
        {
          "output_type": "display_data",
          "data": {
            "text/plain": [
              "<Figure size 432x288 with 1 Axes>"
            ],
            "image/png": "[encoded data removed]"
          },
          "metadata": {
            "needs_background": "light"
          }
        }
      ]
    },
    {
      "cell_type": "code",
      "source": [
        "# 7. Loan_Status\n",
        "train_df.Loan_Status.value_counts(dropna=False)"
      ],
      "metadata": {
        "colab": {
          "base_uri": "https://localhost:8080/"
        },
        "id": "r3OjRJzK1DSS",
        "outputId": "b539526a-3cbe-42c2-bb2e-f4d4f6e3bf45"
      },
      "execution_count": 19,
      "outputs": [
        {
          "output_type": "execute_result",
          "data": {
            "text/plain": [
              "Y    422\n",
              "N    192\n",
              "Name: Loan_Status, dtype: int64"
            ]
          },
          "metadata": {},
          "execution_count": 19
        }
      ]
    },
    {
      "cell_type": "code",
      "source": [
        "sns.countplot(x=\"Loan_Status\", data=train_df, palette=\"YlOrBr\")\n",
        "plt.show()"
      ],
      "metadata": {
        "colab": {
          "base_uri": "https://localhost:8080/",
          "height": 280
        },
        "id": "cpizBzKb1NPg",
        "outputId": "a3ddec84-48bd-447d-fc74-91b4222cdce9"
      },
      "execution_count": 20,
      "outputs": [
        {
          "output_type": "display_data",
          "data": {
            "text/plain": [
              "<Figure size 432x288 with 1 Axes>"
            ],
            "image/png": "[encoded data removed]"
          },
          "metadata": {
            "needs_background": "light"
          }
        }
      ]
    },
    {
      "cell_type": "code",
      "source": [
        "# 8. Loan_Amount_Term\n",
        "train_df.Loan_Amount_Term.value_counts(dropna=False)"
      ],
      "metadata": {
        "colab": {
          "base_uri": "https://localhost:8080/"
        },
        "id": "xJrPHLuZ1NR0",
        "outputId": "fad1837d-1f7d-49ec-8ab3-93bed9201dd8"
      },
      "execution_count": 21,
      "outputs": [
        {
          "output_type": "execute_result",
          "data": {
            "text/plain": [
              "360.0    512\n",
              "180.0     44\n",
              "480.0     15\n",
              "NaN       14\n",
              "300.0     13\n",
              "240.0      4\n",
              "84.0       4\n",
              "120.0      3\n",
              "60.0       2\n",
              "36.0       2\n",
              "12.0       1\n",
              "Name: Loan_Amount_Term, dtype: int64"
            ]
          },
          "metadata": {},
          "execution_count": 21
        }
      ]
    },
    {
      "cell_type": "code",
      "source": [
        "sns.countplot(x=\"Loan_Amount_Term\", data=train_df, palette=\"rocket\")\n",
        "plt.show()"
      ],
      "metadata": {
        "colab": {
          "base_uri": "https://localhost:8080/",
          "height": 280
        },
        "id": "eAYRPXzx1V6t",
        "outputId": "4ca83a16-562d-4b87-813d-e012dd171433"
      },
      "execution_count": 22,
      "outputs": [
        {
          "output_type": "display_data",
          "data": {
            "text/plain": [
              "<Figure size 432x288 with 1 Axes>"
            ],
            "image/png": "[encoded data removed]"
          },
          "metadata": {
            "needs_background": "light"
          }
        }
      ]
    },
    {
      "cell_type": "code",
      "source": [],
      "metadata": {
        "id": "DIPWO31M0Dgp"
      },
      "execution_count": 22,
      "outputs": []
    },
    {
      "cell_type": "markdown",
      "source": [
        "**Numerical Variables**"
      ],
      "metadata": {
        "id": "_e4k2BOMz01a"
      }
    },
    {
      "cell_type": "code",
      "source": [
        "train_df[['ApplicantIncome','CoapplicantIncome','LoanAmount']].describe()"
      ],
      "metadata": {
        "colab": {
          "base_uri": "https://localhost:8080/",
          "height": 300
        },
        "id": "g7aryX1evgFA",
        "outputId": "581893ba-e64a-4081-b84e-da653cf7e4d3"
      },
      "execution_count": 23,
      "outputs": [
        {
          "output_type": "execute_result",
          "data": {
            "text/plain": [
              "       ApplicantIncome  CoapplicantIncome  LoanAmount\n",
              "count       614.000000         614.000000  592.000000\n",
              "mean       5403.459283        1621.245798  146.412162\n",
              "std        6109.041673        2926.248369   85.587325\n",
              "min         150.000000           0.000000    9.000000\n",
              "25%        2877.500000           0.000000  100.000000\n",
              "50%        3812.500000        1188.500000  128.000000\n",
              "75%        5795.000000        2297.250000  168.000000\n",
              "max       81000.000000       41667.000000  700.000000"
            ],
            "text/html": [
              "\n",
              "  <div id=\"df-39ca39e1-df3f-400c-8a4e-591106283212\">\n",
              "    <div class=\"colab-df-container\">\n",
              "      <div>\n",
              "<style scoped>\n",
              "    .dataframe tbody tr th:only-of-type {\n",
              "        vertical-align: middle;\n",
              "    }\n",
              "\n",
              "    .dataframe tbody tr th {\n",
              "        vertical-align: top;\n",
              "    }\n",
              "\n",
              "    .dataframe thead th {\n",
              "        text-align: right;\n",
              "    }\n",
              "</style>\n",
              "<table border=\"1\" class=\"dataframe\">\n",
              "  <thead>\n",
              "    <tr style=\"text-align: right;\">\n",
              "      <th></th>\n",
              "      <th>ApplicantIncome</th>\n",
              "      <th>CoapplicantIncome</th>\n",
              "      <th>LoanAmount</th>\n",
              "    </tr>\n",
              "  </thead>\n",
              "  <tbody>\n",
              "    <tr>\n",
              "      <th>count</th>\n",
              "      <td>614.000000</td>\n",
              "      <td>614.000000</td>\n",
              "      <td>592.000000</td>\n",
              "    </tr>\n",
              "    <tr>\n",
              "      <th>mean</th>\n",
              "      <td>5403.459283</td>\n",
              "      <td>1621.245798</td>\n",
              "      <td>146.412162</td>\n",
              "    </tr>\n",
              "    <tr>\n",
              "      <th>std</th>\n",
              "      <td>6109.041673</td>\n",
              "      <td>2926.248369</td>\n",
              "      <td>85.587325</td>\n",
              "    </tr>\n",
              "    <tr>\n",
              "      <th>min</th>\n",
              "      <td>150.000000</td>\n",
              "      <td>0.000000</td>\n",
              "      <td>9.000000</td>\n",
              "    </tr>\n",
              "    <tr>\n",
              "      <th>25%</th>\n",
              "      <td>2877.500000</td>\n",
              "      <td>0.000000</td>\n",
              "      <td>100.000000</td>\n",
              "    </tr>\n",
              "    <tr>\n",
              "      <th>50%</th>\n",
              "      <td>3812.500000</td>\n",
              "      <td>1188.500000</td>\n",
              "      <td>128.000000</td>\n",
              "    </tr>\n",
              "    <tr>\n",
              "      <th>75%</th>\n",
              "      <td>5795.000000</td>\n",
              "      <td>2297.250000</td>\n",
              "      <td>168.000000</td>\n",
              "    </tr>\n",
              "    <tr>\n",
              "      <th>max</th>\n",
              "      <td>81000.000000</td>\n",
              "      <td>41667.000000</td>\n",
              "      <td>700.000000</td>\n",
              "    </tr>\n",
              "  </tbody>\n",
              "</table>\n",
              "</div>\n",
              "      <button class=\"colab-df-convert\" onclick=\"convertToInteractive('df-39ca39e1-df3f-400c-8a4e-591106283212')\"\n",
              "              title=\"Convert this dataframe to an interactive table.\"\n",
              "              style=\"display:none;\">\n",
              "        \n",
              "  <svg xmlns=\"http://www.w3.org/2000/svg\" height=\"24px\"viewBox=\"0 0 24 24\"\n",
              "       width=\"24px\">\n",
              "    <path d=\"M0 0h24v24H0V0z\" fill=\"none\"/>\n",
              "    <path d=\"M18.56 5.44l.94 2.06.94-2.06 2.06-.94-2.06-.94-.94-2.06-.94 2.06-2.06.94zm-11 1L8.5 8.5l.94-2.06 2.06-.94-2.06-.94L8.5 2.5l-.94 2.06-2.06.94zm10 10l.94 2.06.94-2.06 2.06-.94-2.06-.94-.94-2.06-.94 2.06-2.06.94z\"/><path d=\"M17.41 7.96l-1.37-1.37c-.4-.4-.92-.59-1.43-.59-.52 0-1.04.2-1.43.59L10.3 9.45l-7.72 7.72c-.78.78-.78 2.05 0 2.83L4 21.41c.39.39.9.59 1.41.59.51 0 1.02-.2 1.41-.59l7.78-7.78 2.81-2.81c.8-.78.8-2.07 0-2.86zM5.41 20L4 18.59l7.72-7.72 1.47 1.35L5.41 20z\"/>\n",
              "  </svg>\n",
              "      </button>\n",
              "      \n",
              "  <style>\n",
              "    .colab-df-container {\n",
              "      display:flex;\n",
              "      flex-wrap:wrap;\n",
              "      gap: 12px;\n",
              "    }\n",
              "\n",
              "    .colab-df-convert {\n",
              "      background-color: #E8F0FE;\n",
              "      border: none;\n",
              "      border-radius: 50%;\n",
              "      cursor: pointer;\n",
              "      display: none;\n",
              "      fill: #1967D2;\n",
              "      height: 32px;\n",
              "      padding: 0 0 0 0;\n",
              "      width: 32px;\n",
              "    }\n",
              "\n",
              "    .colab-df-convert:hover {\n",
              "      background-color: #E2EBFA;\n",
              "      box-shadow: 0px 1px 2px rgba(60, 64, 67, 0.3), 0px 1px 3px 1px rgba(60, 64, 67, 0.15);\n",
              "      fill: #174EA6;\n",
              "    }\n",
              "\n",
              "    [theme=dark] .colab-df-convert {\n",
              "      background-color: #3B4455;\n",
              "      fill: #D2E3FC;\n",
              "    }\n",
              "\n",
              "    [theme=dark] .colab-df-convert:hover {\n",
              "      background-color: #434B5C;\n",
              "      box-shadow: 0px 1px 3px 1px rgba(0, 0, 0, 0.15);\n",
              "      filter: drop-shadow(0px 1px 2px rgba(0, 0, 0, 0.3));\n",
              "      fill: #FFFFFF;\n",
              "    }\n",
              "  </style>\n",
              "\n",
              "      <script>\n",
              "        const buttonEl =\n",
              "          document.querySelector('#df-39ca39e1-df3f-400c-8a4e-591106283212 button.colab-df-convert');\n",
              "        buttonEl.style.display =\n",
              "          google.colab.kernel.accessAllowed ? 'block' : 'none';\n",
              "\n",
              "        async function convertToInteractive(key) {\n",
              "          const element = document.querySelector('#df-39ca39e1-df3f-400c-8a4e-591106283212');\n",
              "          const dataTable =\n",
              "            await google.colab.kernel.invokeFunction('convertToInteractive',\n",
              "                                                     [key], {});\n",
              "          if (!dataTable) return;\n",
              "\n",
              "          const docLinkHtml = 'Like what you see? Visit the ' +\n",
              "            '<a target=\"_blank\" href=https://colab.research.google.com/notebooks/data_table.ipynb>data table notebook</a>'\n",
              "            + ' to learn more about interactive tables.';\n",
              "          element.innerHTML = '';\n",
              "          dataTable['output_type'] = 'display_data';\n",
              "          await google.colab.output.renderOutput(dataTable, element);\n",
              "          const docLink = document.createElement('div');\n",
              "          docLink.innerHTML = docLinkHtml;\n",
              "          element.appendChild(docLink);\n",
              "        }\n",
              "      </script>\n",
              "    </div>\n",
              "  </div>\n",
              "  "
            ]
          },
          "metadata": {},
          "execution_count": 23
        }
      ]
    },
    {
      "cell_type": "code",
      "source": [
        "# Distribution\n",
        "sns.set(style=\"darkgrid\")\n",
        "fig, axs = plt.subplots(1, 3, figsize=(15, 5))\n",
        "\n",
        "sns.histplot(data=train_df, x=\"ApplicantIncome\", kde=True, ax=axs[0], color='green')\n",
        "sns.histplot(data=train_df, x=\"CoapplicantIncome\", kde=True, ax=axs[1], color='skyblue')\n",
        "sns.histplot(data=train_df, x=\"LoanAmount\", kde=True, ax=axs[2], color='orange');"
      ],
      "metadata": {
        "colab": {
          "base_uri": "https://localhost:8080/",
          "height": 342
        },
        "id": "dTURWHCd1tnG",
        "outputId": "68a00833-f1a6-402d-f830-6d2890d1019f"
      },
      "execution_count": 24,
      "outputs": [
        {
          "output_type": "display_data",
          "data": {
            "text/plain": [
              "<Figure size 1080x360 with 3 Axes>"
            ],
            "image/png": "[encoded data removed]"
          },
          "metadata": {}
        }
      ]
    },
    {
      "cell_type": "code",
      "source": [
        "sns.set(style=\"darkgrid\")\n",
        "fig, axs1 = plt.subplots(1, 3, figsize=(15, 5))\n",
        "\n",
        "sns.violinplot(data=train_df, y=\"ApplicantIncome\", ax=axs1[0], color='green')\n",
        "sns.violinplot(data=train_df, y=\"CoapplicantIncome\", ax=axs1[1], color='skyblue')\n",
        "sns.violinplot(data=train_df, y=\"LoanAmount\", ax=axs1[2], color='orange');"
      ],
      "metadata": {
        "colab": {
          "base_uri": "https://localhost:8080/",
          "height": 303
        },
        "id": "Nx7REBzz1tp7",
        "outputId": "f74999ec-2d0a-451d-b21d-2944bbdccdd8"
      },
      "execution_count": 25,
      "outputs": [
        {
          "output_type": "display_data",
          "data": {
            "text/plain": [
              "<Figure size 1080x360 with 3 Axes>"
            ],
            "image/png": "[encoded data removed]"
          },
          "metadata": {}
        }
      ]
    },
    {
      "cell_type": "code",
      "source": [
        "# The distribution of Applicant income, Co Applicant Income, and Loan Amount are positively skewed and \n",
        "# it has outliers (can be seen from both histogram and violin plot).\n",
        "\n",
        "# The distribution of Loan Amount Term is negativly skewed and it has outliers."
      ],
      "metadata": {
        "id": "CuYwAkSd1tsS"
      },
      "execution_count": 26,
      "outputs": []
    },
    {
      "cell_type": "code",
      "source": [
        "# Heatmap\n",
        "plt.figure(figsize=(10,7))\n",
        "sns.heatmap(train_df.corr(), annot=True, cmap='inferno');"
      ],
      "metadata": {
        "colab": {
          "base_uri": "https://localhost:8080/",
          "height": 532
        },
        "id": "zkA0jlx51tun",
        "outputId": "43754b21-fbf8-4ea9-ba9f-5a8af007ad4e"
      },
      "execution_count": 27,
      "outputs": [
        {
          "output_type": "display_data",
          "data": {
            "text/plain": [
              "<Figure size 720x504 with 2 Axes>"
            ],
            "image/png": "[encoded data removed]"
          },
          "metadata": {}
        }
      ]
    },
    {
      "cell_type": "code",
      "source": [
        "# There is positive correlation between Loan Amount and Applicant Income"
      ],
      "metadata": {
        "id": "JdJKP8gN3CGE"
      },
      "execution_count": 28,
      "outputs": []
    },
    {
      "cell_type": "code",
      "source": [
        "# Lets Do some data pre-processing\n",
        "train_df.isnull().sum()"
      ],
      "metadata": {
        "colab": {
          "base_uri": "https://localhost:8080/"
        },
        "id": "guJNIRos3tcN",
        "outputId": "1e0cc67d-3388-4b9b-bdc3-b64d94fbd5a1"
      },
      "execution_count": 29,
      "outputs": [
        {
          "output_type": "execute_result",
          "data": {
            "text/plain": [
              "Loan_ID               0\n",
              "Gender               13\n",
              "Married               3\n",
              "Dependents           15\n",
              "Education             0\n",
              "Self_Employed        32\n",
              "ApplicantIncome       0\n",
              "CoapplicantIncome     0\n",
              "LoanAmount           22\n",
              "Loan_Amount_Term     14\n",
              "Credit_History       50\n",
              "Property_Area         0\n",
              "Loan_Status           0\n",
              "dtype: int64"
            ]
          },
          "metadata": {},
          "execution_count": 29
        }
      ]
    },
    {
      "cell_type": "code",
      "source": [
        "train_df = train_df.drop(['Loan_ID'], axis = 1)"
      ],
      "metadata": {
        "id": "9zzVsshX3tg5"
      },
      "execution_count": 30,
      "outputs": []
    },
    {
      "cell_type": "code",
      "source": [
        "# Data Imputation:\n",
        "# Imputation is a technique for substituting an estimated value for missing \n",
        "# values in a dataset. In this section, the imputation will be performed for \n",
        "# variables that have missing values.\n",
        "\n",
        "## Categorical Variables\n",
        "train_df['Gender'].fillna(train_df['Gender'].mode()[0], inplace=True)\n",
        "train_df['Married'].fillna(train_df['Married'].mode()[0], inplace=True)\n",
        "train_df['Dependents'].fillna(train_df['Dependents'].mode()[0], inplace=True)\n",
        "train_df['Self_Employed'].fillna(train_df['Self_Employed'].mode()[0], inplace=True)\n",
        "train_df['Credit_History'].fillna(train_df['Credit_History'].mode()[0], inplace=True)\n",
        "train_df['Loan_Amount_Term'].fillna(train_df['Loan_Amount_Term'].mode()[0], inplace=True)\n",
        "\n",
        "## Numerical Variables\n",
        "train_df['LoanAmount'].fillna(train_df['LoanAmount'].mean(),inplace=True)"
      ],
      "metadata": {
        "id": "Tqqm9cc13tjP"
      },
      "execution_count": 31,
      "outputs": []
    },
    {
      "cell_type": "code",
      "source": [
        "# Categorical -> Numerical\n",
        "train_df.Loan_Status = train_df.Loan_Status.replace({\"Y\": 1, \"N\" : 0})\n",
        "train_df.Gender = train_df.Gender.replace({\"Male\": 1, \"Female\" : 0})\n",
        "train_df.Married = train_df.Married.replace({\"Yes\": 1, \"No\" : 0})\n",
        "train_df.Self_Employed = train_df.Self_Employed.replace({\"Yes\": 1, \"No\" : 0})\n",
        "train_df['Gender'].fillna(train_df['Gender'].mode()[0], inplace=True)\n",
        "train_df['Dependents'].fillna(train_df['Dependents'].mode()[0], inplace=True)\n",
        "train_df['Married'].fillna(train_df['Married'].mode()[0], inplace=True)\n",
        "train_df['Credit_History'].fillna(train_df['Credit_History'].mean(), inplace=True)"
      ],
      "metadata": {
        "id": "bSOmqN9w3tll"
      },
      "execution_count": 32,
      "outputs": []
    },
    {
      "cell_type": "code",
      "source": [
        "# Here, 'Property_Area', 'Dependents' and 'Education' has multiple values so now we \n",
        "# can use LabelEncoder from sklearn package\n",
        "\n",
        "feature_col = ['Property_Area', 'Education', 'Dependents']\n",
        "le = LabelEncoder()\n",
        "for col in feature_col:\n",
        "    train_df[col] = le.fit_transform(train_df[col])"
      ],
      "metadata": {
        "id": "HxY4zlt25vMt"
      },
      "execution_count": 33,
      "outputs": []
    },
    {
      "cell_type": "code",
      "source": [
        "train_df"
      ],
      "metadata": {
        "colab": {
          "base_uri": "https://localhost:8080/",
          "height": 488
        },
        "id": "6Opi54C0St94",
        "outputId": "144a396d-d397-4845-aa12-883c4fc0653c"
      },
      "execution_count": 34,
      "outputs": [
        {
          "output_type": "execute_result",
          "data": {
            "text/plain": [
              "     Gender  Married  Dependents  Education  Self_Employed  ApplicantIncome  \\\n",
              "0         1        0           0          0              0             5849   \n",
              "1         1        1           1          0              0             4583   \n",
              "2         1        1           0          0              1             3000   \n",
              "3         1        1           0          1              0             2583   \n",
              "4         1        0           0          0              0             6000   \n",
              "..      ...      ...         ...        ...            ...              ...   \n",
              "609       0        0           0          0              0             2900   \n",
              "610       1        1           3          0              0             4106   \n",
              "611       1        1           1          0              0             8072   \n",
              "612       1        1           2          0              0             7583   \n",
              "613       0        0           0          0              1             4583   \n",
              "\n",
              "     CoapplicantIncome  LoanAmount  Loan_Amount_Term  Credit_History  \\\n",
              "0                  0.0  146.412162             360.0             1.0   \n",
              "1               1508.0  128.000000             360.0             1.0   \n",
              "2                  0.0   66.000000             360.0             1.0   \n",
              "3               2358.0  120.000000             360.0             1.0   \n",
              "4                  0.0  141.000000             360.0             1.0   \n",
              "..                 ...         ...               ...             ...   \n",
              "609                0.0   71.000000             360.0             1.0   \n",
              "610                0.0   40.000000             180.0             1.0   \n",
              "611              240.0  253.000000             360.0             1.0   \n",
              "612                0.0  187.000000             360.0             1.0   \n",
              "613                0.0  133.000000             360.0             0.0   \n",
              "\n",
              "     Property_Area  Loan_Status  \n",
              "0                2            1  \n",
              "1                0            0  \n",
              "2                2            1  \n",
              "3                2            1  \n",
              "4                2            1  \n",
              "..             ...          ...  \n",
              "609              0            1  \n",
              "610              0            1  \n",
              "611              2            1  \n",
              "612              2            1  \n",
              "613              1            0  \n",
              "\n",
              "[614 rows x 12 columns]"
            ],
            "text/html": [
              "\n",
              "  <div id=\"df-dfc41b2b-b020-48d6-bc11-cb1d1510846c\">\n",
              "    <div class=\"colab-df-container\">\n",
              "      <div>\n",
              "<style scoped>\n",
              "    .dataframe tbody tr th:only-of-type {\n",
              "        vertical-align: middle;\n",
              "    }\n",
              "\n",
              "    .dataframe tbody tr th {\n",
              "        vertical-align: top;\n",
              "    }\n",
              "\n",
              "    .dataframe thead th {\n",
              "        text-align: right;\n",
              "    }\n",
              "</style>\n",
              "<table border=\"1\" class=\"dataframe\">\n",
              "  <thead>\n",
              "    <tr style=\"text-align: right;\">\n",
              "      <th></th>\n",
              "      <th>Gender</th>\n",
              "      <th>Married</th>\n",
              "      <th>Dependents</th>\n",
              "      <th>Education</th>\n",
              "      <th>Self_Employed</th>\n",
              "      <th>ApplicantIncome</th>\n",
              "      <th>CoapplicantIncome</th>\n",
              "      <th>LoanAmount</th>\n",
              "      <th>Loan_Amount_Term</th>\n",
              "      <th>Credit_History</th>\n",
              "      <th>Property_Area</th>\n",
              "      <th>Loan_Status</th>\n",
              "    </tr>\n",
              "  </thead>\n",
              "  <tbody>\n",
              "    <tr>\n",
              "      <th>0</th>\n",
              "      <td>1</td>\n",
              "      <td>0</td>\n",
              "      <td>0</td>\n",
              "      <td>0</td>\n",
              "      <td>0</td>\n",
              "      <td>5849</td>\n",
              "      <td>0.0</td>\n",
              "      <td>146.412162</td>\n",
              "      <td>360.0</td>\n",
              "      <td>1.0</td>\n",
              "      <td>2</td>\n",
              "      <td>1</td>\n",
              "    </tr>\n",
              "    <tr>\n",
              "      <th>1</th>\n",
              "      <td>1</td>\n",
              "      <td>1</td>\n",
              "      <td>1</td>\n",
              "      <td>0</td>\n",
              "      <td>0</td>\n",
              "      <td>4583</td>\n",
              "      <td>1508.0</td>\n",
              "      <td>128.000000</td>\n",
              "      <td>360.0</td>\n",
              "      <td>1.0</td>\n",
              "      <td>0</td>\n",
              "      <td>0</td>\n",
              "    </tr>\n",
              "    <tr>\n",
              "      <th>2</th>\n",
              "      <td>1</td>\n",
              "      <td>1</td>\n",
              "      <td>0</td>\n",
              "      <td>0</td>\n",
              "      <td>1</td>\n",
              "      <td>3000</td>\n",
              "      <td>0.0</td>\n",
              "      <td>66.000000</td>\n",
              "      <td>360.0</td>\n",
              "      <td>1.0</td>\n",
              "      <td>2</td>\n",
              "      <td>1</td>\n",
              "    </tr>\n",
              "    <tr>\n",
              "      <th>3</th>\n",
              "      <td>1</td>\n",
              "      <td>1</td>\n",
              "      <td>0</td>\n",
              "      <td>1</td>\n",
              "      <td>0</td>\n",
              "      <td>2583</td>\n",
              "      <td>2358.0</td>\n",
              "      <td>120.000000</td>\n",
              "      <td>360.0</td>\n",
              "      <td>1.0</td>\n",
              "      <td>2</td>\n",
              "      <td>1</td>\n",
              "    </tr>\n",
              "    <tr>\n",
              "      <th>4</th>\n",
              "      <td>1</td>\n",
              "      <td>0</td>\n",
              "      <td>0</td>\n",
              "      <td>0</td>\n",
              "      <td>0</td>\n",
              "      <td>6000</td>\n",
              "      <td>0.0</td>\n",
              "      <td>141.000000</td>\n",
              "      <td>360.0</td>\n",
              "      <td>1.0</td>\n",
              "      <td>2</td>\n",
              "      <td>1</td>\n",
              "    </tr>\n",
              "    <tr>\n",
              "      <th>...</th>\n",
              "      <td>...</td>\n",
              "      <td>...</td>\n",
              "      <td>...</td>\n",
              "      <td>...</td>\n",
              "      <td>...</td>\n",
              "      <td>...</td>\n",
              "      <td>...</td>\n",
              "      <td>...</td>\n",
              "      <td>...</td>\n",
              "      <td>...</td>\n",
              "      <td>...</td>\n",
              "      <td>...</td>\n",
              "    </tr>\n",
              "    <tr>\n",
              "      <th>609</th>\n",
              "      <td>0</td>\n",
              "      <td>0</td>\n",
              "      <td>0</td>\n",
              "      <td>0</td>\n",
              "      <td>0</td>\n",
              "      <td>2900</td>\n",
              "      <td>0.0</td>\n",
              "      <td>71.000000</td>\n",
              "      <td>360.0</td>\n",
              "      <td>1.0</td>\n",
              "      <td>0</td>\n",
              "      <td>1</td>\n",
              "    </tr>\n",
              "    <tr>\n",
              "      <th>610</th>\n",
              "      <td>1</td>\n",
              "      <td>1</td>\n",
              "      <td>3</td>\n",
              "      <td>0</td>\n",
              "      <td>0</td>\n",
              "      <td>4106</td>\n",
              "      <td>0.0</td>\n",
              "      <td>40.000000</td>\n",
              "      <td>180.0</td>\n",
              "      <td>1.0</td>\n",
              "      <td>0</td>\n",
              "      <td>1</td>\n",
              "    </tr>\n",
              "    <tr>\n",
              "      <th>611</th>\n",
              "      <td>1</td>\n",
              "      <td>1</td>\n",
              "      <td>1</td>\n",
              "      <td>0</td>\n",
              "      <td>0</td>\n",
              "      <td>8072</td>\n",
              "      <td>240.0</td>\n",
              "      <td>253.000000</td>\n",
              "      <td>360.0</td>\n",
              "      <td>1.0</td>\n",
              "      <td>2</td>\n",
              "      <td>1</td>\n",
              "    </tr>\n",
              "    <tr>\n",
              "      <th>612</th>\n",
              "      <td>1</td>\n",
              "      <td>1</td>\n",
              "      <td>2</td>\n",
              "      <td>0</td>\n",
              "      <td>0</td>\n",
              "      <td>7583</td>\n",
              "      <td>0.0</td>\n",
              "      <td>187.000000</td>\n",
              "      <td>360.0</td>\n",
              "      <td>1.0</td>\n",
              "      <td>2</td>\n",
              "      <td>1</td>\n",
              "    </tr>\n",
              "    <tr>\n",
              "      <th>613</th>\n",
              "      <td>0</td>\n",
              "      <td>0</td>\n",
              "      <td>0</td>\n",
              "      <td>0</td>\n",
              "      <td>1</td>\n",
              "      <td>4583</td>\n",
              "      <td>0.0</td>\n",
              "      <td>133.000000</td>\n",
              "      <td>360.0</td>\n",
              "      <td>0.0</td>\n",
              "      <td>1</td>\n",
              "      <td>0</td>\n",
              "    </tr>\n",
              "  </tbody>\n",
              "</table>\n",
              "<p>614 rows × 12 columns</p>\n",
              "</div>\n",
              "      <button class=\"colab-df-convert\" onclick=\"convertToInteractive('df-dfc41b2b-b020-48d6-bc11-cb1d1510846c')\"\n",
              "              title=\"Convert this dataframe to an interactive table.\"\n",
              "              style=\"display:none;\">\n",
              "        \n",
              "  <svg xmlns=\"http://www.w3.org/2000/svg\" height=\"24px\"viewBox=\"0 0 24 24\"\n",
              "       width=\"24px\">\n",
              "    <path d=\"M0 0h24v24H0V0z\" fill=\"none\"/>\n",
              "    <path d=\"M18.56 5.44l.94 2.06.94-2.06 2.06-.94-2.06-.94-.94-2.06-.94 2.06-2.06.94zm-11 1L8.5 8.5l.94-2.06 2.06-.94-2.06-.94L8.5 2.5l-.94 2.06-2.06.94zm10 10l.94 2.06.94-2.06 2.06-.94-2.06-.94-.94-2.06-.94 2.06-2.06.94z\"/><path d=\"M17.41 7.96l-1.37-1.37c-.4-.4-.92-.59-1.43-.59-.52 0-1.04.2-1.43.59L10.3 9.45l-7.72 7.72c-.78.78-.78 2.05 0 2.83L4 21.41c.39.39.9.59 1.41.59.51 0 1.02-.2 1.41-.59l7.78-7.78 2.81-2.81c.8-.78.8-2.07 0-2.86zM5.41 20L4 18.59l7.72-7.72 1.47 1.35L5.41 20z\"/>\n",
              "  </svg>\n",
              "      </button>\n",
              "      \n",
              "  <style>\n",
              "    .colab-df-container {\n",
              "      display:flex;\n",
              "      flex-wrap:wrap;\n",
              "      gap: 12px;\n",
              "    }\n",
              "\n",
              "    .colab-df-convert {\n",
              "      background-color: #E8F0FE;\n",
              "      border: none;\n",
              "      border-radius: 50%;\n",
              "      cursor: pointer;\n",
              "      display: none;\n",
              "      fill: #1967D2;\n",
              "      height: 32px;\n",
              "      padding: 0 0 0 0;\n",
              "      width: 32px;\n",
              "    }\n",
              "\n",
              "    .colab-df-convert:hover {\n",
              "      background-color: #E2EBFA;\n",
              "      box-shadow: 0px 1px 2px rgba(60, 64, 67, 0.3), 0px 1px 3px 1px rgba(60, 64, 67, 0.15);\n",
              "      fill: #174EA6;\n",
              "    }\n",
              "\n",
              "    [theme=dark] .colab-df-convert {\n",
              "      background-color: #3B4455;\n",
              "      fill: #D2E3FC;\n",
              "    }\n",
              "\n",
              "    [theme=dark] .colab-df-convert:hover {\n",
              "      background-color: #434B5C;\n",
              "      box-shadow: 0px 1px 3px 1px rgba(0, 0, 0, 0.15);\n",
              "      filter: drop-shadow(0px 1px 2px rgba(0, 0, 0, 0.3));\n",
              "      fill: #FFFFFF;\n",
              "    }\n",
              "  </style>\n",
              "\n",
              "      <script>\n",
              "        const buttonEl =\n",
              "          document.querySelector('#df-dfc41b2b-b020-48d6-bc11-cb1d1510846c button.colab-df-convert');\n",
              "        buttonEl.style.display =\n",
              "          google.colab.kernel.accessAllowed ? 'block' : 'none';\n",
              "\n",
              "        async function convertToInteractive(key) {\n",
              "          const element = document.querySelector('#df-dfc41b2b-b020-48d6-bc11-cb1d1510846c');\n",
              "          const dataTable =\n",
              "            await google.colab.kernel.invokeFunction('convertToInteractive',\n",
              "                                                     [key], {});\n",
              "          if (!dataTable) return;\n",
              "\n",
              "          const docLinkHtml = 'Like what you see? Visit the ' +\n",
              "            '<a target=\"_blank\" href=https://colab.research.google.com/notebooks/data_table.ipynb>data table notebook</a>'\n",
              "            + ' to learn more about interactive tables.';\n",
              "          element.innerHTML = '';\n",
              "          dataTable['output_type'] = 'display_data';\n",
              "          await google.colab.output.renderOutput(dataTable, element);\n",
              "          const docLink = document.createElement('div');\n",
              "          docLink.innerHTML = docLinkHtml;\n",
              "          element.appendChild(docLink);\n",
              "        }\n",
              "      </script>\n",
              "    </div>\n",
              "  </div>\n",
              "  "
            ]
          },
          "metadata": {},
          "execution_count": 34
        }
      ]
    },
    {
      "cell_type": "code",
      "source": [
        "plt.figure(figsize=(18, 6))\n",
        "plt.subplot(1, 2, 1)\n",
        "\n",
        "\n",
        "train_df['ApplicantIncome'].hist(bins=10)\n",
        "plt.title(\"Loan Application Amount \")\n",
        "\n",
        "plt.subplot(1, 2, 2)\n",
        "plt.grid()\n",
        "plt.hist(np.log(train_df['LoanAmount']))\n",
        "plt.title(\"Log Loan Application Amount \")\n",
        "\n",
        "plt.show()"
      ],
      "metadata": {
        "colab": {
          "base_uri": "https://localhost:8080/",
          "height": 382
        },
        "id": "KFpdY9TITVwA",
        "outputId": "4e74dd87-185e-4633-d3e7-3c5ba3bf0243"
      },
      "execution_count": 35,
      "outputs": [
        {
          "output_type": "display_data",
          "data": {
            "text/plain": [
              "<Figure size 1296x432 with 2 Axes>"
            ],
            "image/png": "[encoded data removed]"
          },
          "metadata": {}
        }
      ]
    },
    {
      "cell_type": "code",
      "source": [
        "# A bigger Correlation Matrix\n",
        "plt.figure(figsize=(15,10))\n",
        "sns.heatmap(train_df.corr(), annot=True, linewidths=.8)\n",
        "plt.show()"
      ],
      "metadata": {
        "colab": {
          "base_uri": "https://localhost:8080/",
          "height": 696
        },
        "id": "EnfR8MDR4sAO",
        "outputId": "325ef084-07e4-42d2-b390-4bdd75d2946f"
      },
      "execution_count": 36,
      "outputs": [
        {
          "output_type": "display_data",
          "data": {
            "text/plain": [
              "<Figure size 1080x720 with 2 Axes>"
            ],
            "image/png": "[encoded data removed]"
          },
          "metadata": {}
        }
      ]
    },
    {
      "cell_type": "code",
      "source": [
        "plt.figure(figsize=(15,10))\n",
        "sns.boxplot(x=\"Loan_Status\", y=\"ApplicantIncome\", data=train_df)"
      ],
      "metadata": {
        "colab": {
          "base_uri": "https://localhost:8080/",
          "height": 629
        },
        "id": "_NOAZRhoUR6C",
        "outputId": "9dd28e36-543e-49f8-be24-21608211717a"
      },
      "execution_count": 37,
      "outputs": [
        {
          "output_type": "execute_result",
          "data": {
            "text/plain": [
              "<AxesSubplot:xlabel='Loan_Status', ylabel='ApplicantIncome'>"
            ]
          },
          "metadata": {},
          "execution_count": 37
        },
        {
          "output_type": "display_data",
          "data": {
            "text/plain": [
              "<Figure size 1080x720 with 1 Axes>"
            ],
            "image/png": "[encoded data removed]"
          },
          "metadata": {}
        }
      ]
    },
    {
      "cell_type": "code",
      "source": [
        "sns.boxplot(x=\"Loan_Status\", y=\"CoapplicantIncome\", data=train_df)"
      ],
      "metadata": {
        "colab": {
          "base_uri": "https://localhost:8080/",
          "height": 303
        },
        "id": "00gl4mzeUR9X",
        "outputId": "75cbdc48-8568-4e06-f74b-25e9284b1e5a"
      },
      "execution_count": 38,
      "outputs": [
        {
          "output_type": "execute_result",
          "data": {
            "text/plain": [
              "<AxesSubplot:xlabel='Loan_Status', ylabel='CoapplicantIncome'>"
            ]
          },
          "metadata": {},
          "execution_count": 38
        },
        {
          "output_type": "display_data",
          "data": {
            "text/plain": [
              "<Figure size 432x288 with 1 Axes>"
            ],
            "image/png": "[encoded data removed]"
          },
          "metadata": {}
        }
      ]
    },
    {
      "cell_type": "code",
      "source": [
        "sns.boxplot(x=\"Loan_Status\", y=\"LoanAmount\", data=train_df)"
      ],
      "metadata": {
        "colab": {
          "base_uri": "https://localhost:8080/",
          "height": 303
        },
        "id": "E8bzQbW0UR_9",
        "outputId": "62b491b4-d37b-44f0-8200-2a087abfe406"
      },
      "execution_count": 39,
      "outputs": [
        {
          "output_type": "execute_result",
          "data": {
            "text/plain": [
              "<AxesSubplot:xlabel='Loan_Status', ylabel='LoanAmount'>"
            ]
          },
          "metadata": {},
          "execution_count": 39
        },
        {
          "output_type": "display_data",
          "data": {
            "text/plain": [
              "<Figure size 432x288 with 1 Axes>"
            ],
            "image/png": "[encoded data removed]"
          },
          "metadata": {}
        }
      ]
    },
    {
      "cell_type": "code",
      "source": [
        "# WE WILL NOT REMOVE THE\n",
        "Q1 = train_df.quantile(0.25)\n",
        "Q3 = train_df.quantile(0.75)\n",
        "IQR = Q3 - Q1\n",
        "\n",
        "k_df = train_df[~((train_df < (Q1 - 1.5 * IQR)) | (train_df > (Q3 + 1.5 * IQR))).any(axis=1)]\n",
        "print(((train_df < (Q1 - 1.5 * IQR)) | (train_df > (Q3 + 1.5 * IQR))).sum())\n",
        "print(len(k_df))\n",
        "\n",
        "# RESULT\n",
        "# ApplicantIncome       50\n",
        "# CoapplicantIncome     18\n",
        "# LoanAmount            41"
      ],
      "metadata": {
        "colab": {
          "base_uri": "https://localhost:8080/"
        },
        "id": "iE5xV8UuUjgE",
        "outputId": "e27e5ee6-c92d-436a-dee5-160cd89ddd9a"
      },
      "execution_count": 40,
      "outputs": [
        {
          "output_type": "stream",
          "name": "stdout",
          "text": [
            "Gender               112\n",
            "Married                0\n",
            "Dependents            51\n",
            "Education            134\n",
            "Self_Employed         82\n",
            "ApplicantIncome       50\n",
            "CoapplicantIncome     18\n",
            "LoanAmount            41\n",
            "Loan_Amount_Term      88\n",
            "Credit_History        89\n",
            "Property_Area          0\n",
            "Loan_Status            0\n",
            "dtype: int64\n",
            "207\n"
          ]
        }
      ]
    },
    {
      "cell_type": "code",
      "source": [
        "import pandas as pd\n",
        "\n",
        "def remove_outliers(df,columns, n_std):\n",
        "    for col in columns:\n",
        "        print('Working on column: {}'.format(col))\n",
        "        \n",
        "        mean = df[col].mean()\n",
        "        sd = df[col].std()\n",
        "        \n",
        "        df = df[(df[col] <= mean+(n_std*sd))]\n",
        "        \n",
        "    return df\n",
        "\n",
        "req_cols = ['ApplicantIncome', 'CoapplicantIncome', 'LoanAmount']\n",
        "k1_df = remove_outliers(train_df, req_cols, 3)\n",
        "print(len(k1_df))"
      ],
      "metadata": {
        "colab": {
          "base_uri": "https://localhost:8080/"
        },
        "id": "5g5Cskv1VQ6S",
        "outputId": "9ad2bc2b-1c08-417c-9b14-027f7be93220"
      },
      "execution_count": 41,
      "outputs": [
        {
          "output_type": "stream",
          "name": "stdout",
          "text": [
            "Working on column: ApplicantIncome\n",
            "Working on column: CoapplicantIncome\n",
            "Working on column: LoanAmount\n",
            "587\n"
          ]
        }
      ]
    },
    {
      "cell_type": "code",
      "source": [
        "# Features Separating for model training\n",
        "\n",
        "X = train_df.drop([\"Loan_Status\"], axis=1)\n",
        "y = train_df[\"Loan_Status\"]\n",
        "# X = k1_df.drop([\"Loan_Status\"], axis=1)\n",
        "# y = k1_df[\"Loan_Status\"]"
      ],
      "metadata": {
        "id": "jdlxKNCS4sCR"
      },
      "execution_count": 42,
      "outputs": []
    },
    {
      "cell_type": "code",
      "source": [
        "# # SMOTE Technique \n",
        "# X, y = SMOTE().fit_resample(X, y)\n",
        "\n",
        "# sns.set_theme(style=\"darkgrid\")\n",
        "# sns.countplot(y=y, data=df, palette=\"coolwarm\")\n",
        "# plt.ylabel('Loan Status')\n",
        "# plt.xlabel('Total')\n",
        "# plt.show()"
      ],
      "metadata": {
        "id": "bksGIQKt4sEX"
      },
      "execution_count": 43,
      "outputs": []
    },
    {
      "cell_type": "code",
      "source": [
        "import numpy as np\n",
        "import pandas as pd\n",
        "import matplotlib.pyplot as plt\n",
        "import missingno as mso\n",
        "import seaborn as sns\n",
        "import warnings\n",
        "import os\n",
        "import scipy\n",
        "\n",
        "from scipy import stats\n",
        "from scipy.stats import pearsonr\n",
        "from scipy.stats import ttest_ind\n",
        "\n",
        "\n",
        "\n",
        "\n",
        "from imblearn.over_sampling import SMOTE\n",
        "\n",
        "\n",
        "\n",
        "\n",
        "from xgboost import XGBClassifier\n",
        "from sklearn.model_selection import GridSearchCV, RandomizedSearchCV"
      ],
      "metadata": {
        "id": "966-6HSU7fDf"
      },
      "execution_count": 44,
      "outputs": []
    },
    {
      "cell_type": "code",
      "source": [
        "from sklearn.preprocessing import MinMaxScaler\n",
        "from sklearn.model_selection import train_test_split\n",
        "from sklearn.linear_model import LogisticRegression\n",
        "from sklearn.metrics import accuracy_score\n",
        "from sklearn.metrics import classification_report\n",
        "from sklearn.metrics import confusion_matrix\n",
        "from sklearn.neighbors import KNeighborsClassifier\n",
        "from sklearn.svm import SVC\n",
        "from sklearn.naive_bayes import CategoricalNB\n",
        "from sklearn.naive_bayes import GaussianNB\n",
        "from sklearn.tree import DecisionTreeClassifier\n",
        "from sklearn.ensemble import RandomForestClassifier\n",
        "from sklearn.ensemble import GradientBoostingClassifier"
      ],
      "metadata": {
        "id": "sF1QWbSS7f2D"
      },
      "execution_count": 45,
      "outputs": []
    },
    {
      "cell_type": "code",
      "source": [
        "# # SMOTE Technique\n",
        "# X, y = SMOTE().fit_resample(X, y)\n",
        "\n",
        "# sns.set_theme(style=\"darkgrid\")\n",
        "# sns.countplot(y=y, data=train_df)\n",
        "# plt.ylabel('Loan Status')\n",
        "# plt.xlabel('Total')\n",
        "# plt.show()"
      ],
      "metadata": {
        "id": "IJdlu8KekwvG"
      },
      "execution_count": 46,
      "outputs": []
    },
    {
      "cell_type": "code",
      "source": [
        "# Data Normalization\n",
        "X = MinMaxScaler().fit_transform(X)"
      ],
      "metadata": {
        "id": "y81MZaHJ3CIY"
      },
      "execution_count": 47,
      "outputs": []
    },
    {
      "cell_type": "code",
      "source": [
        "# Splitting Dataset\n",
        "X_train, X_test, y_train, y_test = train_test_split(X, y, test_size = 0.2)"
      ],
      "metadata": {
        "id": "FVLGCmwL7HXX"
      },
      "execution_count": 48,
      "outputs": []
    },
    {
      "cell_type": "code",
      "source": [],
      "metadata": {
        "id": "BKAs_XwPkum8"
      },
      "execution_count": 48,
      "outputs": []
    },
    {
      "cell_type": "markdown",
      "source": [
        "### **ML MODELS**"
      ],
      "metadata": {
        "id": "OmBBtBtM7uKp"
      }
    },
    {
      "cell_type": "code",
      "source": [
        "# Logistic Regression\n",
        "lr_classifier = LogisticRegression(solver='saga', max_iter=500, random_state=1)\n",
        "lr_classifier.fit(X_train, y_train)\n",
        "\n",
        "y_pred = lr_classifier.predict(X_test)\n",
        "\n",
        "print(classification_report(y_test, y_pred))\n",
        "print(confusion_matrix(y_test, y_pred))\n",
        "\n",
        "LRAcc = accuracy_score(y_pred, y_test)\n",
        "print('LR accuracy: {:.2f}%'.format(LRAcc*100))"
      ],
      "metadata": {
        "colab": {
          "base_uri": "https://localhost:8080/"
        },
        "id": "LwhmIAN07HZq",
        "outputId": "52e59268-f2b3-42c4-921f-c23bce2b7533"
      },
      "execution_count": 49,
      "outputs": [
        {
          "output_type": "stream",
          "name": "stdout",
          "text": [
            "              precision    recall  f1-score   support\n",
            "\n",
            "           0       0.82      0.48      0.61        29\n",
            "           1       0.86      0.97      0.91        94\n",
            "\n",
            "    accuracy                           0.85       123\n",
            "   macro avg       0.84      0.73      0.76       123\n",
            "weighted avg       0.85      0.85      0.84       123\n",
            "\n",
            "[[14 15]\n",
            " [ 3 91]]\n",
            "LR accuracy: 85.37%\n"
          ]
        }
      ]
    },
    {
      "cell_type": "code",
      "source": [
        "# Predict the probability of class 1 on the testing data\n",
        "y_pred_proba = lr_classifier.predict_proba(X_test)\n",
        "\n",
        "# Convert probabilities to class predictions\n",
        "# y_pred = np.argmin(y_pred_proba, axis=1)\n",
        "# y_pred\n",
        "\n",
        "# Apply threshold to convert probabilities to binary labels\n",
        "# y_pred_binary = (y_pred_proba[:, 1] >= 0.5).astype(int)\n",
        "# y_pred_binary\n",
        "# # Define a list of probability thresholds to use\n",
        "thresholds = [0.2, 0.3, 0.4, 0.5, 0.6, 0.7, 0.8]\n",
        "\n",
        "# Loop over the thresholds and print statistics for each\n",
        "for threshold in thresholds:\n",
        "    print('threshold', threshold)\n",
        "    y_pred = []\n",
        "    for i in y_pred_proba:\n",
        "      if i[0] > threshold:\n",
        "        y_pred.append(0)\n",
        "      else:\n",
        "        y_pred.append(1)\n",
        "\n",
        "    y_pred = np.array(y_pred)\n",
        "    print(classification_report(y_test, y_pred))\n",
        "    print(confusion_matrix(y_test, y_pred))\n",
        "    LRAcc = accuracy_score(y_pred, y_test)\n",
        "    print('LR accuracy: {:.2f}%'.format(LRAcc*100))"
      ],
      "metadata": {
        "colab": {
          "base_uri": "https://localhost:8080/"
        },
        "id": "X3F2KHkSaFVX",
        "outputId": "91a57e7e-4e74-474d-994a-855494b53360"
      },
      "execution_count": 50,
      "outputs": [
        {
          "output_type": "stream",
          "name": "stdout",
          "text": [
            "threshold 0.2\n",
            "              precision    recall  f1-score   support\n",
            "\n",
            "           0       0.30      0.83      0.44        29\n",
            "           1       0.88      0.39      0.54        94\n",
            "\n",
            "    accuracy                           0.50       123\n",
            "   macro avg       0.59      0.61      0.49       123\n",
            "weighted avg       0.74      0.50      0.52       123\n",
            "\n",
            "[[24  5]\n",
            " [57 37]]\n",
            "LR accuracy: 49.59%\n",
            "threshold 0.3\n",
            "              precision    recall  f1-score   support\n",
            "\n",
            "           0       0.50      0.48      0.49        29\n",
            "           1       0.84      0.85      0.85        94\n",
            "\n",
            "    accuracy                           0.76       123\n",
            "   macro avg       0.67      0.67      0.67       123\n",
            "weighted avg       0.76      0.76      0.76       123\n",
            "\n",
            "[[14 15]\n",
            " [14 80]]\n",
            "LR accuracy: 76.42%\n",
            "threshold 0.4\n",
            "              precision    recall  f1-score   support\n",
            "\n",
            "           0       0.82      0.48      0.61        29\n",
            "           1       0.86      0.97      0.91        94\n",
            "\n",
            "    accuracy                           0.85       123\n",
            "   macro avg       0.84      0.73      0.76       123\n",
            "weighted avg       0.85      0.85      0.84       123\n",
            "\n",
            "[[14 15]\n",
            " [ 3 91]]\n",
            "LR accuracy: 85.37%\n",
            "threshold 0.5\n",
            "              precision    recall  f1-score   support\n",
            "\n",
            "           0       0.82      0.48      0.61        29\n",
            "           1       0.86      0.97      0.91        94\n",
            "\n",
            "    accuracy                           0.85       123\n",
            "   macro avg       0.84      0.73      0.76       123\n",
            "weighted avg       0.85      0.85      0.84       123\n",
            "\n",
            "[[14 15]\n",
            " [ 3 91]]\n",
            "LR accuracy: 85.37%\n",
            "threshold 0.6\n",
            "              precision    recall  f1-score   support\n",
            "\n",
            "           0       0.82      0.48      0.61        29\n",
            "           1       0.86      0.97      0.91        94\n",
            "\n",
            "    accuracy                           0.85       123\n",
            "   macro avg       0.84      0.73      0.76       123\n",
            "weighted avg       0.85      0.85      0.84       123\n",
            "\n",
            "[[14 15]\n",
            " [ 3 91]]\n",
            "LR accuracy: 85.37%\n",
            "threshold 0.7\n",
            "              precision    recall  f1-score   support\n",
            "\n",
            "           0       0.82      0.48      0.61        29\n",
            "           1       0.86      0.97      0.91        94\n",
            "\n",
            "    accuracy                           0.85       123\n",
            "   macro avg       0.84      0.73      0.76       123\n",
            "weighted avg       0.85      0.85      0.84       123\n",
            "\n",
            "[[14 15]\n",
            " [ 3 91]]\n",
            "LR accuracy: 85.37%\n",
            "threshold 0.8\n",
            "              precision    recall  f1-score   support\n",
            "\n",
            "           0       0.82      0.48      0.61        29\n",
            "           1       0.86      0.97      0.91        94\n",
            "\n",
            "    accuracy                           0.85       123\n",
            "   macro avg       0.84      0.73      0.76       123\n",
            "weighted avg       0.85      0.85      0.84       123\n",
            "\n",
            "[[14 15]\n",
            " [ 3 91]]\n",
            "LR accuracy: 85.37%\n"
          ]
        }
      ]
    },
    {
      "cell_type": "code",
      "source": [
        "# K-Nearest Neighbour (KNN)\n",
        "scoreListknn = []\n",
        "for i in range(1, 21):\n",
        "    KNclassifier = KNeighborsClassifier(n_neighbors = i)\n",
        "    KNclassifier.fit(X_train, y_train)\n",
        "    scoreListknn.append(KNclassifier.score(X_test, y_test))\n",
        "    \n",
        "plt.plot(range(1,21), scoreListknn)\n",
        "plt.xticks(np.arange(1,21,1))\n",
        "plt.xlabel(\"K value\")\n",
        "plt.ylabel(\"Score\")\n",
        "plt.show()\n",
        "KNAcc = max(scoreListknn)\n",
        "print(\"KNN best accuracy: {:.2f}%\".format(KNAcc*100))"
      ],
      "metadata": {
        "colab": {
          "base_uri": "https://localhost:8080/",
          "height": 303
        },
        "id": "Ac6whFMc7HcB",
        "outputId": "deb9b414-c6ce-47ad-9e5a-8eae1852bb02"
      },
      "execution_count": 51,
      "outputs": [
        {
          "output_type": "display_data",
          "data": {
            "text/plain": [
              "<Figure size 432x288 with 1 Axes>"
            ],
            "image/png": "[encoded data removed]"
          },
          "metadata": {}
        },
        {
          "output_type": "stream",
          "name": "stdout",
          "text": [
            "KNN best accuracy: 86.18%\n"
          ]
        }
      ]
    },
    {
      "cell_type": "code",
      "source": [
        "# Support Vector Machine (SVM)\n",
        "SVCclassifier = SVC(kernel='rbf', max_iter=1000)\n",
        "SVCclassifier.fit(X_train, y_train)\n",
        "\n",
        "y_pred = SVCclassifier.predict(X_test)\n",
        "\n",
        "print(classification_report(y_test, y_pred))\n",
        "print(confusion_matrix(y_test, y_pred))\n",
        "\n",
        "from sklearn.metrics import accuracy_score\n",
        "SVCAcc = accuracy_score(y_pred,y_test)\n",
        "print('SVC accuracy: {:.2f}%'.format(SVCAcc*100))"
      ],
      "metadata": {
        "colab": {
          "base_uri": "https://localhost:8080/"
        },
        "id": "u5ubsfQe7HeW",
        "outputId": "c51bdd95-bba3-4cff-a7e2-ea8ad4b8a2ee"
      },
      "execution_count": 52,
      "outputs": [
        {
          "output_type": "stream",
          "name": "stdout",
          "text": [
            "              precision    recall  f1-score   support\n",
            "\n",
            "           0       0.82      0.48      0.61        29\n",
            "           1       0.86      0.97      0.91        94\n",
            "\n",
            "    accuracy                           0.85       123\n",
            "   macro avg       0.84      0.73      0.76       123\n",
            "weighted avg       0.85      0.85      0.84       123\n",
            "\n",
            "[[14 15]\n",
            " [ 3 91]]\n",
            "SVC accuracy: 85.37%\n"
          ]
        }
      ]
    },
    {
      "cell_type": "code",
      "source": [
        "# # Naive Bayes\n",
        "\n",
        "# ## 1. Categorical NB\n",
        "\n",
        "# NBclassifier1 = CategoricalNB()\n",
        "# NBclassifier1.fit(X_train, y_train)\n",
        "\n",
        "# y_pred = NBclassifier1.predict(X_test)\n",
        "\n",
        "# print(classification_report(y_test, y_pred))\n",
        "# print(confusion_matrix(y_test, y_pred))\n",
        "\n",
        "# from sklearn.metrics import accuracy_score\n",
        "# NBAcc1 = accuracy_score(y_pred,y_test)\n",
        "# print('Categorical Naive Bayes accuracy: {:.2f}%'.format(NBAcc1*100))"
      ],
      "metadata": {
        "id": "AEjMrDMC3CKd"
      },
      "execution_count": 53,
      "outputs": []
    },
    {
      "cell_type": "code",
      "source": [
        "## 2. Gaussian NB\n",
        "NBclassifier2 = GaussianNB()\n",
        "NBclassifier2.fit(X_train, y_train)\n",
        "\n",
        "y_pred = NBclassifier2.predict(X_test)\n",
        "\n",
        "print(classification_report(y_test, y_pred))\n",
        "print(confusion_matrix(y_test, y_pred))\n",
        "\n",
        "from sklearn.metrics import accuracy_score\n",
        "NBAcc2 = accuracy_score(y_pred,y_test)\n",
        "print('Gaussian Naive Bayes accuracy: {:.2f}%'.format(NBAcc2*100))"
      ],
      "metadata": {
        "colab": {
          "base_uri": "https://localhost:8080/"
        },
        "id": "B8eiwUKA80El",
        "outputId": "0ade534b-bef9-4f49-aab4-bd77b842c990"
      },
      "execution_count": 54,
      "outputs": [
        {
          "output_type": "stream",
          "name": "stdout",
          "text": [
            "              precision    recall  f1-score   support\n",
            "\n",
            "           0       0.60      0.52      0.56        29\n",
            "           1       0.86      0.89      0.88        94\n",
            "\n",
            "    accuracy                           0.80       123\n",
            "   macro avg       0.73      0.71      0.72       123\n",
            "weighted avg       0.80      0.80      0.80       123\n",
            "\n",
            "[[15 14]\n",
            " [10 84]]\n",
            "Gaussian Naive Bayes accuracy: 80.49%\n"
          ]
        }
      ]
    },
    {
      "cell_type": "code",
      "source": [
        "# Decision Tree\n",
        "scoreListDT = []\n",
        "for i in range(2,21):\n",
        "    DTclassifier = DecisionTreeClassifier(max_leaf_nodes=i)\n",
        "    DTclassifier.fit(X_train, y_train)\n",
        "    scoreListDT.append(DTclassifier.score(X_test, y_test))\n",
        "    \n",
        "plt.plot(range(2,21), scoreListDT)\n",
        "plt.xticks(np.arange(2,21,1))\n",
        "plt.xlabel(\"Leaf\")\n",
        "plt.ylabel(\"Score\")\n",
        "plt.show()\n",
        "DTAcc = max(scoreListDT)\n",
        "print(\"Decision Tree Accuracy: {:.2f}%\".format(DTAcc*100))"
      ],
      "metadata": {
        "colab": {
          "base_uri": "https://localhost:8080/",
          "height": 303
        },
        "id": "b_q6gDkJ80G5",
        "outputId": "3bbea80e-6e27-46a0-d70e-1d18920d2395"
      },
      "execution_count": 55,
      "outputs": [
        {
          "output_type": "display_data",
          "data": {
            "text/plain": [
              "<Figure size 432x288 with 1 Axes>"
            ],
            "image/png": "[encoded data removed]"
          },
          "metadata": {}
        },
        {
          "output_type": "stream",
          "name": "stdout",
          "text": [
            "Decision Tree Accuracy: 85.37%\n"
          ]
        }
      ]
    },
    {
      "cell_type": "code",
      "source": [
        "#  Random Forest\n",
        "scoreListRF = []\n",
        "for i in range(2,25):\n",
        "    RFclassifier = RandomForestClassifier(n_estimators = 100, random_state = 1, max_leaf_nodes=i)\n",
        "    RFclassifier.fit(X_train, y_train)\n",
        "    scoreListRF.append(RFclassifier.score(X_test, y_test))\n",
        "    \n",
        "plt.plot(range(2,25), scoreListRF)\n",
        "plt.xticks(np.arange(2,25,1))\n",
        "plt.xlabel(\"RF Value\")\n",
        "plt.ylabel(\"Score\")\n",
        "plt.show()\n",
        "RFAcc = max(scoreListRF)\n",
        "print(\"Random Forest Accuracy:  {:.2f}%\".format(RFAcc*100))"
      ],
      "metadata": {
        "colab": {
          "base_uri": "https://localhost:8080/",
          "height": 305
        },
        "id": "1GUq1rAn80Je",
        "outputId": "13b687fc-c6ef-46af-8a02-99cd223dbf64"
      },
      "execution_count": 56,
      "outputs": [
        {
          "output_type": "display_data",
          "data": {
            "text/plain": [
              "<Figure size 432x288 with 1 Axes>"
            ],
            "image/png": "[encoded data removed]"
          },
          "metadata": {}
        },
        {
          "output_type": "stream",
          "name": "stdout",
          "text": [
            "Random Forest Accuracy:  85.37%\n"
          ]
        }
      ]
    },
    {
      "cell_type": "code",
      "source": [
        "GBclassifier = GradientBoostingClassifier(subsample=0.5, n_estimators=100, max_depth=10, max_leaf_nodes=20)\n",
        "GBclassifier.fit(X_train, y_train)\n",
        "\n",
        "y_pred = GBclassifier.predict(X_test)\n",
        "\n",
        "print(classification_report(y_test, y_pred))\n",
        "print(confusion_matrix(y_test, y_pred))\n",
        "\n",
        "from sklearn.metrics import accuracy_score\n",
        "GBAcc = accuracy_score(y_pred,y_test)\n",
        "print('Gradient Boosting accuracy: {:.2f}%'.format(GBAcc*100))"
      ],
      "metadata": {
        "colab": {
          "base_uri": "https://localhost:8080/"
        },
        "id": "31yCTRmo9JLm",
        "outputId": "68524880-eafe-47ff-c5d9-26f0342ea6fd"
      },
      "execution_count": 62,
      "outputs": [
        {
          "output_type": "stream",
          "name": "stdout",
          "text": [
            "              precision    recall  f1-score   support\n",
            "\n",
            "           0       0.50      0.48      0.49        29\n",
            "           1       0.84      0.85      0.85        94\n",
            "\n",
            "    accuracy                           0.76       123\n",
            "   macro avg       0.67      0.67      0.67       123\n",
            "weighted avg       0.76      0.76      0.76       123\n",
            "\n",
            "[[14 15]\n",
            " [14 80]]\n",
            "Gradient Boosting accuracy: 76.42%\n"
          ]
        }
      ]
    },
    {
      "cell_type": "code",
      "source": [
        "# Model Comparison\n",
        "compare = pd.DataFrame({'Model': ['Logistic Regression', 'K Neighbors', \n",
        "                                  'SVM', \n",
        "                                  'Gaussian NB', 'Decision Tree', \n",
        "                                  'Random Forest', 'Gradient Boost'], \n",
        "                        'Accuracy': [LRAcc*100, KNAcc*100, SVCAcc*100, \n",
        "                                     NBAcc2*100, DTAcc*100, \n",
        "                                     RFAcc*100, GBAcc*100]})\n",
        "compare.sort_values(by='Accuracy', ascending=False)"
      ],
      "metadata": {
        "colab": {
          "base_uri": "https://localhost:8080/",
          "height": 269
        },
        "id": "uAIVSEVK90Ro",
        "outputId": "8a0c2f22-f903-4965-835c-941ef1c4117a"
      },
      "execution_count": 63,
      "outputs": [
        {
          "output_type": "execute_result",
          "data": {
            "text/plain": [
              "                 Model   Accuracy\n",
              "1          K Neighbors  86.178862\n",
              "0  Logistic Regression  85.365854\n",
              "2                  SVM  85.365854\n",
              "4        Decision Tree  85.365854\n",
              "5        Random Forest  85.365854\n",
              "3          Gaussian NB  80.487805\n",
              "6       Gradient Boost  76.422764"
            ],
            "text/html": [
              "\n",
              "  <div id=\"df-9ac45133-905a-417b-a43d-7a5043acca4d\">\n",
              "    <div class=\"colab-df-container\">\n",
              "      <div>\n",
              "<style scoped>\n",
              "    .dataframe tbody tr th:only-of-type {\n",
              "        vertical-align: middle;\n",
              "    }\n",
              "\n",
              "    .dataframe tbody tr th {\n",
              "        vertical-align: top;\n",
              "    }\n",
              "\n",
              "    .dataframe thead th {\n",
              "        text-align: right;\n",
              "    }\n",
              "</style>\n",
              "<table border=\"1\" class=\"dataframe\">\n",
              "  <thead>\n",
              "    <tr style=\"text-align: right;\">\n",
              "      <th></th>\n",
              "      <th>Model</th>\n",
              "      <th>Accuracy</th>\n",
              "    </tr>\n",
              "  </thead>\n",
              "  <tbody>\n",
              "    <tr>\n",
              "      <th>1</th>\n",
              "      <td>K Neighbors</td>\n",
              "      <td>86.178862</td>\n",
              "    </tr>\n",
              "    <tr>\n",
              "      <th>0</th>\n",
              "      <td>Logistic Regression</td>\n",
              "      <td>85.365854</td>\n",
              "    </tr>\n",
              "    <tr>\n",
              "      <th>2</th>\n",
              "      <td>SVM</td>\n",
              "      <td>85.365854</td>\n",
              "    </tr>\n",
              "    <tr>\n",
              "      <th>4</th>\n",
              "      <td>Decision Tree</td>\n",
              "      <td>85.365854</td>\n",
              "    </tr>\n",
              "    <tr>\n",
              "      <th>5</th>\n",
              "      <td>Random Forest</td>\n",
              "      <td>85.365854</td>\n",
              "    </tr>\n",
              "    <tr>\n",
              "      <th>3</th>\n",
              "      <td>Gaussian NB</td>\n",
              "      <td>80.487805</td>\n",
              "    </tr>\n",
              "    <tr>\n",
              "      <th>6</th>\n",
              "      <td>Gradient Boost</td>\n",
              "      <td>76.422764</td>\n",
              "    </tr>\n",
              "  </tbody>\n",
              "</table>\n",
              "</div>\n",
              "      <button class=\"colab-df-convert\" onclick=\"convertToInteractive('df-9ac45133-905a-417b-a43d-7a5043acca4d')\"\n",
              "              title=\"Convert this dataframe to an interactive table.\"\n",
              "              style=\"display:none;\">\n",
              "        \n",
              "  <svg xmlns=\"http://www.w3.org/2000/svg\" height=\"24px\"viewBox=\"0 0 24 24\"\n",
              "       width=\"24px\">\n",
              "    <path d=\"M0 0h24v24H0V0z\" fill=\"none\"/>\n",
              "    <path d=\"M18.56 5.44l.94 2.06.94-2.06 2.06-.94-2.06-.94-.94-2.06-.94 2.06-2.06.94zm-11 1L8.5 8.5l.94-2.06 2.06-.94-2.06-.94L8.5 2.5l-.94 2.06-2.06.94zm10 10l.94 2.06.94-2.06 2.06-.94-2.06-.94-.94-2.06-.94 2.06-2.06.94z\"/><path d=\"M17.41 7.96l-1.37-1.37c-.4-.4-.92-.59-1.43-.59-.52 0-1.04.2-1.43.59L10.3 9.45l-7.72 7.72c-.78.78-.78 2.05 0 2.83L4 21.41c.39.39.9.59 1.41.59.51 0 1.02-.2 1.41-.59l7.78-7.78 2.81-2.81c.8-.78.8-2.07 0-2.86zM5.41 20L4 18.59l7.72-7.72 1.47 1.35L5.41 20z\"/>\n",
              "  </svg>\n",
              "      </button>\n",
              "      \n",
              "  <style>\n",
              "    .colab-df-container {\n",
              "      display:flex;\n",
              "      flex-wrap:wrap;\n",
              "      gap: 12px;\n",
              "    }\n",
              "\n",
              "    .colab-df-convert {\n",
              "      background-color: #E8F0FE;\n",
              "      border: none;\n",
              "      border-radius: 50%;\n",
              "      cursor: pointer;\n",
              "      display: none;\n",
              "      fill: #1967D2;\n",
              "      height: 32px;\n",
              "      padding: 0 0 0 0;\n",
              "      width: 32px;\n",
              "    }\n",
              "\n",
              "    .colab-df-convert:hover {\n",
              "      background-color: #E2EBFA;\n",
              "      box-shadow: 0px 1px 2px rgba(60, 64, 67, 0.3), 0px 1px 3px 1px rgba(60, 64, 67, 0.15);\n",
              "      fill: #174EA6;\n",
              "    }\n",
              "\n",
              "    [theme=dark] .colab-df-convert {\n",
              "      background-color: #3B4455;\n",
              "      fill: #D2E3FC;\n",
              "    }\n",
              "\n",
              "    [theme=dark] .colab-df-convert:hover {\n",
              "      background-color: #434B5C;\n",
              "      box-shadow: 0px 1px 3px 1px rgba(0, 0, 0, 0.15);\n",
              "      filter: drop-shadow(0px 1px 2px rgba(0, 0, 0, 0.3));\n",
              "      fill: #FFFFFF;\n",
              "    }\n",
              "  </style>\n",
              "\n",
              "      <script>\n",
              "        const buttonEl =\n",
              "          document.querySelector('#df-9ac45133-905a-417b-a43d-7a5043acca4d button.colab-df-convert');\n",
              "        buttonEl.style.display =\n",
              "          google.colab.kernel.accessAllowed ? 'block' : 'none';\n",
              "\n",
              "        async function convertToInteractive(key) {\n",
              "          const element = document.querySelector('#df-9ac45133-905a-417b-a43d-7a5043acca4d');\n",
              "          const dataTable =\n",
              "            await google.colab.kernel.invokeFunction('convertToInteractive',\n",
              "                                                     [key], {});\n",
              "          if (!dataTable) return;\n",
              "\n",
              "          const docLinkHtml = 'Like what you see? Visit the ' +\n",
              "            '<a target=\"_blank\" href=https://colab.research.google.com/notebooks/data_table.ipynb>data table notebook</a>'\n",
              "            + ' to learn more about interactive tables.';\n",
              "          element.innerHTML = '';\n",
              "          dataTable['output_type'] = 'display_data';\n",
              "          await google.colab.output.renderOutput(dataTable, element);\n",
              "          const docLink = document.createElement('div');\n",
              "          docLink.innerHTML = docLinkHtml;\n",
              "          element.appendChild(docLink);\n",
              "        }\n",
              "      </script>\n",
              "    </div>\n",
              "  </div>\n",
              "  "
            ]
          },
          "metadata": {},
          "execution_count": 63
        }
      ]
    },
    {
      "cell_type": "code",
      "source": [
        "len(train_df)"
      ],
      "metadata": {
        "id": "P5xCaFL--EJE",
        "colab": {
          "base_uri": "https://localhost:8080/"
        },
        "outputId": "c939e3da-8fc0-415f-c67d-e34607ab11ff"
      },
      "execution_count": 64,
      "outputs": [
        {
          "output_type": "execute_result",
          "data": {
            "text/plain": [
              "614"
            ]
          },
          "metadata": {},
          "execution_count": 64
        }
      ]
    },
    {
      "cell_type": "code",
      "source": [],
      "metadata": {
        "id": "7rAYM2qdrfX-"
      },
      "execution_count": null,
      "outputs": []
    },
    {
      "cell_type": "code",
      "source": [],
      "metadata": {
        "id": "u632TzCkrg3h"
      },
      "execution_count": null,
      "outputs": []
    }
  ]
}